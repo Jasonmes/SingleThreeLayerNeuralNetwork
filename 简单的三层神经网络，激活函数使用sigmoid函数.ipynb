{
 "cells": [
  {
   "cell_type": "code",
   "execution_count": 1,
   "metadata": {},
   "outputs": [],
   "source": [
    "import numpy as np\n",
    "\n",
    "# 定一个激活函数 deriv：False 为不求导数即前向传播，True求导数\n",
    "def sigmoid(x, deriv = False):\n",
    "    if (deriv == True):\n",
    "        return x * (1-x)\n",
    "    return 1/(1 + np.exp(-x))"
   ]
  },
  {
   "cell_type": "code",
   "execution_count": 2,
   "metadata": {},
   "outputs": [
    {
     "name": "stdout",
     "output_type": "stream",
     "text": [
      "(5, 3)\n",
      "\n",
      " (5, 1)\n"
     ]
    }
   ],
   "source": [
    "# 指定输入\n",
    "x = np.array([\n",
    "    [0, 0, 1],\n",
    "    [0, 1, 1],\n",
    "    [1, 0, 1],\n",
    "    [1, 1, 1],\n",
    "    [0, 0, 1],\n",
    "])\n",
    "print (x.shape)\n",
    "\n",
    "# label 类别值\n",
    "y = np.array([\n",
    "    [0],\n",
    "    [1],\n",
    "    [1],\n",
    "    [0],\n",
    "    [0]\n",
    "])\n",
    "print('\\n', y.shape)"
   ]
  },
  {
   "cell_type": "code",
   "execution_count": 3,
   "metadata": {},
   "outputs": [],
   "source": [
    "# 随机种子\n",
    "np.random.seed(1)"
   ]
  },
  {
   "cell_type": "code",
   "execution_count": 4,
   "metadata": {},
   "outputs": [
    {
     "name": "stdout",
     "output_type": "stream",
     "text": [
      "[[-0.16595599  0.44064899 -0.99977125 -0.39533485]\n",
      " [-0.70648822 -0.81532281 -0.62747958 -0.30887855]\n",
      " [-0.20646505  0.07763347 -0.16161097  0.370439  ]]\n"
     ]
    }
   ],
   "source": [
    "# 参数的初始化\n",
    "# 定义三层神经网络 L0层 输入层  L1逻辑层 L2输出层\n",
    "w0 = 2 * np.random.random((3, 4)) - 1\n",
    "w1 = 2 * np.random.random((4, 1)) - 1\n",
    "print(w0)"
   ]
  },
  {
   "cell_type": "code",
   "execution_count": 5,
   "metadata": {},
   "outputs": [
    {
     "name": "stdout",
     "output_type": "stream",
     "text": [
      "Error0.4918739397364802\n",
      "Error0.00979428446397235\n",
      "Error0.006493076538438773\n",
      "Error0.005144157678377011\n",
      "Error0.0043727491816970615\n",
      "Error0.003860386744968517\n"
     ]
    }
   ],
   "source": [
    "# L0 * w0 = L1  \n",
    "# L1 * w1 = L2\n",
    "for j in range(60000):\n",
    "    # 矩阵的运算\n",
    "    l0 = x\n",
    "    l1 = sigmoid(np.dot(l0, w0))\n",
    "    l2 = sigmoid(np.dot(l1, w1))\n",
    "    # 计算与真实值的差异\n",
    "    l2_error = y - l2  # 值相对很大，预测就不准\n",
    "    if (j%10000) == 0:\n",
    "        print('Error' + str(np.mean(np.abs(l2_error))))\n",
    "    # 计算反向传播的求导工作，传到sigmoid函数，从L2开始回传, 这里不是矩阵相乘\n",
    "    l2_delta = l2_error * sigmoid(l2, deriv=True)\n",
    "    \n",
    "    # 回传到L1层\n",
    "    l1_error = l2_delta.dot(w1.T)\n",
    "    l1_delta = l1_error * sigmoid(l1, deriv=True)\n",
    "    \n",
    "    # 更新权值,先更新w1，然后到w0\n",
    "    w1 += l1.T.dot(l2_delta) \n",
    "    w0 += l0.T.dot(l1_delta)"
   ]
  },
  {
   "cell_type": "code",
   "execution_count": null,
   "metadata": {},
   "outputs": [],
   "source": []
  },
  {
   "cell_type": "code",
   "execution_count": null,
   "metadata": {},
   "outputs": [],
   "source": []
  }
 ],
 "metadata": {
  "kernelspec": {
   "display_name": "Python 3",
   "language": "python",
   "name": "python3"
  },
  "language_info": {
   "codemirror_mode": {
    "name": "ipython",
    "version": 3
   },
   "file_extension": ".py",
   "mimetype": "text/x-python",
   "name": "python",
   "nbconvert_exporter": "python",
   "pygments_lexer": "ipython3",
   "version": "3.6.2"
  }
 },
 "nbformat": 4,
 "nbformat_minor": 2
}
